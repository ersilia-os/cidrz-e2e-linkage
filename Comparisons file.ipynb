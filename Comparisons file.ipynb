{
 "cells": [
  {
   "cell_type": "code",
   "execution_count": 2,
   "id": "recreational-exhaust",
   "metadata": {},
   "outputs": [],
   "source": [
    "import numpy as np\n"
   ]
  },
  {
   "cell_type": "code",
   "execution_count": 27,
   "id": "lucky-chess",
   "metadata": {},
   "outputs": [],
   "source": [
    "blocks = np.array([[1, 2, 3], [4,5,6], [7,8,9], [10, 11, 12]]) # 20 is the number of nearest neighbors in faiss, aka k\n",
    "\n",
    "N, k = blocks.shape"
   ]
  },
  {
   "cell_type": "code",
   "execution_count": 20,
   "id": "civic-denver",
   "metadata": {},
   "outputs": [
    {
     "data": {
      "text/plain": [
       "3"
      ]
     },
     "execution_count": 20,
     "metadata": {},
     "output_type": "execute_result"
    }
   ],
   "source": [
    "k"
   ]
  },
  {
   "cell_type": "code",
   "execution_count": 7,
   "id": "ceramic-pulse",
   "metadata": {},
   "outputs": [],
   "source": [
    "comparisons = [(), (), ()]"
   ]
  },
  {
   "cell_type": "code",
   "execution_count": 32,
   "id": "rising-genealogy",
   "metadata": {},
   "outputs": [],
   "source": [
    "compares = np.zeros((N*k, len(comparisons)))"
   ]
  },
  {
   "cell_type": "code",
   "execution_count": 29,
   "id": "failing-healing",
   "metadata": {},
   "outputs": [],
   "source": [
    "pairs = np.zeros((compares.shape[0], 2)).astype(np.int)"
   ]
  },
  {
   "cell_type": "code",
   "execution_count": 34,
   "id": "accompanied-beach",
   "metadata": {},
   "outputs": [
    {
     "data": {
      "text/plain": [
       "array([[ 0,  1],\n",
       "       [ 0,  2],\n",
       "       [ 0,  3],\n",
       "       [ 1,  4],\n",
       "       [ 1,  5],\n",
       "       [ 1,  6],\n",
       "       [ 2,  7],\n",
       "       [ 2,  8],\n",
       "       [ 2,  9],\n",
       "       [ 3, 10],\n",
       "       [ 3, 11],\n",
       "       [ 3, 12]])"
      ]
     },
     "execution_count": 34,
     "metadata": {},
     "output_type": "execute_result"
    }
   ],
   "source": []
  },
  {
   "cell_type": "code",
   "execution_count": 30,
   "id": "prescribed-massage",
   "metadata": {},
   "outputs": [],
   "source": [
    "k = 0\n",
    "for i in range(blocks.shape[0]):\n",
    "    for j in range(blocks.shape[1]):\n",
    "        pairs[k,:] = [i, blocks[i,j]]\n",
    "        k += 1"
   ]
  },
  {
   "cell_type": "code",
   "execution_count": 33,
   "id": "attended-bangkok",
   "metadata": {},
   "outputs": [
    {
     "data": {
      "text/plain": [
       "array([[0., 0., 0.],\n",
       "       [0., 0., 0.],\n",
       "       [0., 0., 0.],\n",
       "       [0., 0., 0.],\n",
       "       [0., 0., 0.],\n",
       "       [0., 0., 0.],\n",
       "       [0., 0., 0.],\n",
       "       [0., 0., 0.],\n",
       "       [0., 0., 0.],\n",
       "       [0., 0., 0.],\n",
       "       [0., 0., 0.],\n",
       "       [0., 0., 0.],\n",
       "       [0., 0., 0.],\n",
       "       [0., 0., 0.],\n",
       "       [0., 0., 0.],\n",
       "       [0., 0., 0.],\n",
       "       [0., 0., 0.],\n",
       "       [0., 0., 0.],\n",
       "       [0., 0., 0.],\n",
       "       [0., 0., 0.],\n",
       "       [0., 0., 0.],\n",
       "       [0., 0., 0.],\n",
       "       [0., 0., 0.],\n",
       "       [0., 0., 0.],\n",
       "       [0., 0., 0.],\n",
       "       [0., 0., 0.],\n",
       "       [0., 0., 0.],\n",
       "       [0., 0., 0.],\n",
       "       [0., 0., 0.],\n",
       "       [0., 0., 0.],\n",
       "       [0., 0., 0.],\n",
       "       [0., 0., 0.],\n",
       "       [0., 0., 0.],\n",
       "       [0., 0., 0.],\n",
       "       [0., 0., 0.],\n",
       "       [0., 0., 0.],\n",
       "       [0., 0., 0.],\n",
       "       [0., 0., 0.],\n",
       "       [0., 0., 0.],\n",
       "       [0., 0., 0.],\n",
       "       [0., 0., 0.],\n",
       "       [0., 0., 0.],\n",
       "       [0., 0., 0.],\n",
       "       [0., 0., 0.],\n",
       "       [0., 0., 0.],\n",
       "       [0., 0., 0.],\n",
       "       [0., 0., 0.],\n",
       "       [0., 0., 0.]])"
      ]
     },
     "execution_count": 33,
     "metadata": {},
     "output_type": "execute_result"
    }
   ],
   "source": [
    "for i in range(compares.shape[0]):\n",
    "    for j in range(compares.shape[1]):\n",
    "        compares[i,j] = my_comparison_function(pairs[i][0], pairs[i][1])# put comparison here"
   ]
  },
  {
   "cell_type": "code",
   "execution_count": null,
   "id": "absent-milwaukee",
   "metadata": {},
   "outputs": [],
   "source": []
  }
 ],
 "metadata": {
  "kernelspec": {
   "display_name": "Python 3",
   "language": "python",
   "name": "python3"
  },
  "language_info": {
   "codemirror_mode": {
    "name": "ipython",
    "version": 3
   },
   "file_extension": ".py",
   "mimetype": "text/x-python",
   "name": "python",
   "nbconvert_exporter": "python",
   "pygments_lexer": "ipython3",
   "version": "3.8.3"
  }
 },
 "nbformat": 4,
 "nbformat_minor": 5
}
